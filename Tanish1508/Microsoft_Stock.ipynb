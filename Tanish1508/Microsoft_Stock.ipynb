{
  "nbformat": 4,
  "nbformat_minor": 0,
  "metadata": {
    "colab": {
      "provenance": [],
      "collapsed_sections": []
    },
    "kernelspec": {
      "name": "python3",
      "display_name": "Python 3"
    },
    "language_info": {
      "name": "python"
    }
  },
  "cells": [
    {
      "cell_type": "code",
      "execution_count": 36,
      "metadata": {
        "id": "K59axalvkGB7"
      },
      "outputs": [],
      "source": [
        "from google.colab import drive"
      ]
    },
    {
      "cell_type": "code",
      "source": [
        "drive.mount(\"/content/drive\")"
      ],
      "metadata": {
        "colab": {
          "base_uri": "https://localhost:8080/"
        },
        "id": "VrsARYa8kdaW",
        "outputId": "058a61f3-f80f-49e1-eb34-33934a523538"
      },
      "execution_count": 37,
      "outputs": [
        {
          "output_type": "stream",
          "name": "stdout",
          "text": [
            "Drive already mounted at /content/drive; to attempt to forcibly remount, call drive.mount(\"/content/drive\", force_remount=True).\n"
          ]
        }
      ]
    },
    {
      "cell_type": "code",
      "source": [
        "import pandas as pd\n",
        "import numpy as np"
      ],
      "metadata": {
        "id": "XaylJGibkev6"
      },
      "execution_count": 38,
      "outputs": []
    },
    {
      "cell_type": "code",
      "source": [
        "stock = pd.read_csv(\"/content/drive/My Drive/DHV/microsoft_stocks.csv\", sep = \",\")"
      ],
      "metadata": {
        "id": "BSjAHn-Ykgg_"
      },
      "execution_count": 39,
      "outputs": []
    },
    {
      "cell_type": "code",
      "source": [
        "stock.info()"
      ],
      "metadata": {
        "colab": {
          "base_uri": "https://localhost:8080/"
        },
        "id": "5JRhLwCskvrm",
        "outputId": "8c420af7-4091-4626-c795-bd4862178cc9"
      },
      "execution_count": 40,
      "outputs": [
        {
          "output_type": "stream",
          "name": "stdout",
          "text": [
            "<class 'pandas.core.frame.DataFrame'>\n",
            "RangeIndex: 1925 entries, 0 to 1924\n",
            "Data columns (total 7 columns):\n",
            " #   Column     Non-Null Count  Dtype  \n",
            "---  ------     --------------  -----  \n",
            " 0   Date       1925 non-null   object \n",
            " 1   High       1925 non-null   float64\n",
            " 2   Low        1925 non-null   float64\n",
            " 3   Open       1925 non-null   float64\n",
            " 4   Close      1925 non-null   float64\n",
            " 5   Volume     1925 non-null   float64\n",
            " 6   Adj Close  1925 non-null   float64\n",
            "dtypes: float64(6), object(1)\n",
            "memory usage: 105.4+ KB\n"
          ]
        }
      ]
    },
    {
      "cell_type": "code",
      "source": [
        "stock.describe()"
      ],
      "metadata": {
        "colab": {
          "base_uri": "https://localhost:8080/",
          "height": 300
        },
        "id": "gyiiCYnKkpcO",
        "outputId": "471b0f1e-e8c9-4f86-8910-6e60c18602fb"
      },
      "execution_count": 41,
      "outputs": [
        {
          "output_type": "execute_result",
          "data": {
            "text/plain": [
              "              High          Low         Open        Close        Volume  \\\n",
              "count  1925.000000  1925.000000  1925.000000  1925.000000  1.925000e+03   \n",
              "mean    140.301455   137.482982   138.934888   138.967096  3.009687e+07   \n",
              "std      89.000722    87.030367    88.066413    88.062951  1.397862e+07   \n",
              "min      40.740002    39.720001    40.340000    40.290001  7.425600e+06   \n",
              "25%      61.410000    60.810001    61.009998    61.119999  2.150010e+07   \n",
              "50%     108.739998   106.290001   107.860001   107.639999  2.669610e+07   \n",
              "75%     215.000000   210.360001   213.100006   212.830002  3.426400e+07   \n",
              "max     349.670013   342.200012   344.619995   343.109985  1.691640e+08   \n",
              "\n",
              "         Adj Close  \n",
              "count  1925.000000  \n",
              "mean    134.947514  \n",
              "std      89.136791  \n",
              "min      35.359890  \n",
              "25%      56.459160  \n",
              "50%     102.966743  \n",
              "75%     209.119339  \n",
              "max     340.882812  "
            ],
            "text/html": [
              "\n",
              "  <div id=\"df-d2b1d6aa-166f-43c5-b697-5c2e8e312839\">\n",
              "    <div class=\"colab-df-container\">\n",
              "      <div>\n",
              "<style scoped>\n",
              "    .dataframe tbody tr th:only-of-type {\n",
              "        vertical-align: middle;\n",
              "    }\n",
              "\n",
              "    .dataframe tbody tr th {\n",
              "        vertical-align: top;\n",
              "    }\n",
              "\n",
              "    .dataframe thead th {\n",
              "        text-align: right;\n",
              "    }\n",
              "</style>\n",
              "<table border=\"1\" class=\"dataframe\">\n",
              "  <thead>\n",
              "    <tr style=\"text-align: right;\">\n",
              "      <th></th>\n",
              "      <th>High</th>\n",
              "      <th>Low</th>\n",
              "      <th>Open</th>\n",
              "      <th>Close</th>\n",
              "      <th>Volume</th>\n",
              "      <th>Adj Close</th>\n",
              "    </tr>\n",
              "  </thead>\n",
              "  <tbody>\n",
              "    <tr>\n",
              "      <th>count</th>\n",
              "      <td>1925.000000</td>\n",
              "      <td>1925.000000</td>\n",
              "      <td>1925.000000</td>\n",
              "      <td>1925.000000</td>\n",
              "      <td>1.925000e+03</td>\n",
              "      <td>1925.000000</td>\n",
              "    </tr>\n",
              "    <tr>\n",
              "      <th>mean</th>\n",
              "      <td>140.301455</td>\n",
              "      <td>137.482982</td>\n",
              "      <td>138.934888</td>\n",
              "      <td>138.967096</td>\n",
              "      <td>3.009687e+07</td>\n",
              "      <td>134.947514</td>\n",
              "    </tr>\n",
              "    <tr>\n",
              "      <th>std</th>\n",
              "      <td>89.000722</td>\n",
              "      <td>87.030367</td>\n",
              "      <td>88.066413</td>\n",
              "      <td>88.062951</td>\n",
              "      <td>1.397862e+07</td>\n",
              "      <td>89.136791</td>\n",
              "    </tr>\n",
              "    <tr>\n",
              "      <th>min</th>\n",
              "      <td>40.740002</td>\n",
              "      <td>39.720001</td>\n",
              "      <td>40.340000</td>\n",
              "      <td>40.290001</td>\n",
              "      <td>7.425600e+06</td>\n",
              "      <td>35.359890</td>\n",
              "    </tr>\n",
              "    <tr>\n",
              "      <th>25%</th>\n",
              "      <td>61.410000</td>\n",
              "      <td>60.810001</td>\n",
              "      <td>61.009998</td>\n",
              "      <td>61.119999</td>\n",
              "      <td>2.150010e+07</td>\n",
              "      <td>56.459160</td>\n",
              "    </tr>\n",
              "    <tr>\n",
              "      <th>50%</th>\n",
              "      <td>108.739998</td>\n",
              "      <td>106.290001</td>\n",
              "      <td>107.860001</td>\n",
              "      <td>107.639999</td>\n",
              "      <td>2.669610e+07</td>\n",
              "      <td>102.966743</td>\n",
              "    </tr>\n",
              "    <tr>\n",
              "      <th>75%</th>\n",
              "      <td>215.000000</td>\n",
              "      <td>210.360001</td>\n",
              "      <td>213.100006</td>\n",
              "      <td>212.830002</td>\n",
              "      <td>3.426400e+07</td>\n",
              "      <td>209.119339</td>\n",
              "    </tr>\n",
              "    <tr>\n",
              "      <th>max</th>\n",
              "      <td>349.670013</td>\n",
              "      <td>342.200012</td>\n",
              "      <td>344.619995</td>\n",
              "      <td>343.109985</td>\n",
              "      <td>1.691640e+08</td>\n",
              "      <td>340.882812</td>\n",
              "    </tr>\n",
              "  </tbody>\n",
              "</table>\n",
              "</div>\n",
              "      <button class=\"colab-df-convert\" onclick=\"convertToInteractive('df-d2b1d6aa-166f-43c5-b697-5c2e8e312839')\"\n",
              "              title=\"Convert this dataframe to an interactive table.\"\n",
              "              style=\"display:none;\">\n",
              "        \n",
              "  <svg xmlns=\"http://www.w3.org/2000/svg\" height=\"24px\"viewBox=\"0 0 24 24\"\n",
              "       width=\"24px\">\n",
              "    <path d=\"M0 0h24v24H0V0z\" fill=\"none\"/>\n",
              "    <path d=\"M18.56 5.44l.94 2.06.94-2.06 2.06-.94-2.06-.94-.94-2.06-.94 2.06-2.06.94zm-11 1L8.5 8.5l.94-2.06 2.06-.94-2.06-.94L8.5 2.5l-.94 2.06-2.06.94zm10 10l.94 2.06.94-2.06 2.06-.94-2.06-.94-.94-2.06-.94 2.06-2.06.94z\"/><path d=\"M17.41 7.96l-1.37-1.37c-.4-.4-.92-.59-1.43-.59-.52 0-1.04.2-1.43.59L10.3 9.45l-7.72 7.72c-.78.78-.78 2.05 0 2.83L4 21.41c.39.39.9.59 1.41.59.51 0 1.02-.2 1.41-.59l7.78-7.78 2.81-2.81c.8-.78.8-2.07 0-2.86zM5.41 20L4 18.59l7.72-7.72 1.47 1.35L5.41 20z\"/>\n",
              "  </svg>\n",
              "      </button>\n",
              "      \n",
              "  <style>\n",
              "    .colab-df-container {\n",
              "      display:flex;\n",
              "      flex-wrap:wrap;\n",
              "      gap: 12px;\n",
              "    }\n",
              "\n",
              "    .colab-df-convert {\n",
              "      background-color: #E8F0FE;\n",
              "      border: none;\n",
              "      border-radius: 50%;\n",
              "      cursor: pointer;\n",
              "      display: none;\n",
              "      fill: #1967D2;\n",
              "      height: 32px;\n",
              "      padding: 0 0 0 0;\n",
              "      width: 32px;\n",
              "    }\n",
              "\n",
              "    .colab-df-convert:hover {\n",
              "      background-color: #E2EBFA;\n",
              "      box-shadow: 0px 1px 2px rgba(60, 64, 67, 0.3), 0px 1px 3px 1px rgba(60, 64, 67, 0.15);\n",
              "      fill: #174EA6;\n",
              "    }\n",
              "\n",
              "    [theme=dark] .colab-df-convert {\n",
              "      background-color: #3B4455;\n",
              "      fill: #D2E3FC;\n",
              "    }\n",
              "\n",
              "    [theme=dark] .colab-df-convert:hover {\n",
              "      background-color: #434B5C;\n",
              "      box-shadow: 0px 1px 3px 1px rgba(0, 0, 0, 0.15);\n",
              "      filter: drop-shadow(0px 1px 2px rgba(0, 0, 0, 0.3));\n",
              "      fill: #FFFFFF;\n",
              "    }\n",
              "  </style>\n",
              "\n",
              "      <script>\n",
              "        const buttonEl =\n",
              "          document.querySelector('#df-d2b1d6aa-166f-43c5-b697-5c2e8e312839 button.colab-df-convert');\n",
              "        buttonEl.style.display =\n",
              "          google.colab.kernel.accessAllowed ? 'block' : 'none';\n",
              "\n",
              "        async function convertToInteractive(key) {\n",
              "          const element = document.querySelector('#df-d2b1d6aa-166f-43c5-b697-5c2e8e312839');\n",
              "          const dataTable =\n",
              "            await google.colab.kernel.invokeFunction('convertToInteractive',\n",
              "                                                     [key], {});\n",
              "          if (!dataTable) return;\n",
              "\n",
              "          const docLinkHtml = 'Like what you see? Visit the ' +\n",
              "            '<a target=\"_blank\" href=https://colab.research.google.com/notebooks/data_table.ipynb>data table notebook</a>'\n",
              "            + ' to learn more about interactive tables.';\n",
              "          element.innerHTML = '';\n",
              "          dataTable['output_type'] = 'display_data';\n",
              "          await google.colab.output.renderOutput(dataTable, element);\n",
              "          const docLink = document.createElement('div');\n",
              "          docLink.innerHTML = docLinkHtml;\n",
              "          element.appendChild(docLink);\n",
              "        }\n",
              "      </script>\n",
              "    </div>\n",
              "  </div>\n",
              "  "
            ]
          },
          "metadata": {},
          "execution_count": 41
        }
      ]
    },
    {
      "cell_type": "code",
      "source": [
        "stock['High'].max()"
      ],
      "metadata": {
        "colab": {
          "base_uri": "https://localhost:8080/"
        },
        "id": "dgb3U2vnk5PK",
        "outputId": "388049a3-b271-4af7-abdd-c06448fa150c"
      },
      "execution_count": 42,
      "outputs": [
        {
          "output_type": "execute_result",
          "data": {
            "text/plain": [
              "349.6700134277344"
            ]
          },
          "metadata": {},
          "execution_count": 42
        }
      ]
    },
    {
      "cell_type": "markdown",
      "source": [
        "All time high as per the data given is around 350 dollars"
      ],
      "metadata": {
        "id": "rYrdRcIHlbCc"
      }
    },
    {
      "cell_type": "code",
      "source": [
        "stock['Low'].min()"
      ],
      "metadata": {
        "colab": {
          "base_uri": "https://localhost:8080/"
        },
        "id": "VJZ3sfaFlVRq",
        "outputId": "dd7b47b0-6452-4e20-c8a6-9961249344e7"
      },
      "execution_count": 43,
      "outputs": [
        {
          "output_type": "execute_result",
          "data": {
            "text/plain": [
              "39.720001220703125"
            ]
          },
          "metadata": {},
          "execution_count": 43
        }
      ]
    },
    {
      "cell_type": "markdown",
      "source": [
        "All time low as per the data given is around 40 dollars"
      ],
      "metadata": {
        "id": "eCDoKOMalfxx"
      }
    },
    {
      "cell_type": "code",
      "source": [
        "import matplotlib.pyplot as plt"
      ],
      "metadata": {
        "id": "j0YlGt64l9jx"
      },
      "execution_count": 44,
      "outputs": []
    },
    {
      "cell_type": "code",
      "source": [
        "x = stock['Date']\n",
        "y = stock['Close']"
      ],
      "metadata": {
        "id": "hwvM_pC7meYR"
      },
      "execution_count": 45,
      "outputs": []
    },
    {
      "cell_type": "code",
      "source": [
        "plt.plot(x,y)"
      ],
      "metadata": {
        "colab": {
          "base_uri": "https://localhost:8080/",
          "height": 282
        },
        "id": "5pX_CmbdmvHL",
        "outputId": "40857ad4-b657-4981-9296-741039aeca1a"
      },
      "execution_count": 46,
      "outputs": [
        {
          "output_type": "execute_result",
          "data": {
            "text/plain": [
              "[<matplotlib.lines.Line2D at 0x7f956e4f7050>]"
            ]
          },
          "metadata": {},
          "execution_count": 46
        },
        {
          "output_type": "display_data",
          "data": {
            "text/plain": [
              "<Figure size 432x288 with 1 Axes>"
            ],
            "image/png": "[encoded data removed]"
          },
          "metadata": {
            "needs_background": "light"
          }
        }
      ]
    },
    {
      "cell_type": "markdown",
      "source": [
        "From this we can see that the chart has gone up significantly since the listing but reccently has seen some corrections in the price"
      ],
      "metadata": {
        "id": "S8liQRhgnyVF"
      }
    },
    {
      "cell_type": "code",
      "source": [
        "y = stock['High']\n",
        "plt.plot(x,y)"
      ],
      "metadata": {
        "colab": {
          "base_uri": "https://localhost:8080/",
          "height": 282
        },
        "id": "r9BvN8Fin8AG",
        "outputId": "2c2414e5-be96-4677-d25a-ec5a46655bfe"
      },
      "execution_count": 47,
      "outputs": [
        {
          "output_type": "execute_result",
          "data": {
            "text/plain": [
              "[<matplotlib.lines.Line2D at 0x7f956ca2add0>]"
            ]
          },
          "metadata": {},
          "execution_count": 47
        },
        {
          "output_type": "display_data",
          "data": {
            "text/plain": [
              "<Figure size 432x288 with 1 Axes>"
            ],
            "image/png": "[encoded data removed]"
          },
          "metadata": {
            "needs_background": "light"
          }
        }
      ]
    },
    {
      "cell_type": "code",
      "source": [
        "y = stock['Low']\n",
        "plt.plot(x,y)"
      ],
      "metadata": {
        "colab": {
          "base_uri": "https://localhost:8080/",
          "height": 282
        },
        "id": "bbWkt3lIoCaE",
        "outputId": "e0bbfe76-594d-4342-957a-3e1e179b62c6"
      },
      "execution_count": 48,
      "outputs": [
        {
          "output_type": "execute_result",
          "data": {
            "text/plain": [
              "[<matplotlib.lines.Line2D at 0x7f956b34ce50>]"
            ]
          },
          "metadata": {},
          "execution_count": 48
        },
        {
          "output_type": "display_data",
          "data": {
            "text/plain": [
              "<Figure size 432x288 with 1 Axes>"
            ],
            "image/png": "[encoded data removed]"
          },
          "metadata": {
            "needs_background": "light"
          }
        }
      ]
    },
    {
      "cell_type": "markdown",
      "source": [
        "From above two graphs we can see that the stock is making higher highs and higher lows which confirms that the stock is in uptrend"
      ],
      "metadata": {
        "id": "yi61vkmyoVT_"
      }
    },
    {
      "cell_type": "code",
      "source": [
        "stock['Date']= pd.to_datetime(stock['Date'])\n",
        "stock.info()"
      ],
      "metadata": {
        "colab": {
          "base_uri": "https://localhost:8080/"
        },
        "id": "73sK1HM7oNnI",
        "outputId": "5774d059-339e-47b2-fcec-94c8a5f8fce4"
      },
      "execution_count": 49,
      "outputs": [
        {
          "output_type": "stream",
          "name": "stdout",
          "text": [
            "<class 'pandas.core.frame.DataFrame'>\n",
            "RangeIndex: 1925 entries, 0 to 1924\n",
            "Data columns (total 7 columns):\n",
            " #   Column     Non-Null Count  Dtype         \n",
            "---  ------     --------------  -----         \n",
            " 0   Date       1925 non-null   datetime64[ns]\n",
            " 1   High       1925 non-null   float64       \n",
            " 2   Low        1925 non-null   float64       \n",
            " 3   Open       1925 non-null   float64       \n",
            " 4   Close      1925 non-null   float64       \n",
            " 5   Volume     1925 non-null   float64       \n",
            " 6   Adj Close  1925 non-null   float64       \n",
            "dtypes: datetime64[ns](1), float64(6)\n",
            "memory usage: 105.4 KB\n"
          ]
        }
      ]
    },
    {
      "cell_type": "code",
      "source": [
        "plt.plot(stock.groupby(pd.Grouper(key='Date',freq='M')).agg({'Close':'mean'}))"
      ],
      "metadata": {
        "colab": {
          "base_uri": "https://localhost:8080/",
          "height": 286
        },
        "id": "fvhzbRBKpePi",
        "outputId": "f0d8e678-b297-4477-cdeb-4dce2756d761"
      },
      "execution_count": 59,
      "outputs": [
        {
          "output_type": "execute_result",
          "data": {
            "text/plain": [
              "[<matplotlib.lines.Line2D at 0x7f956a4c0290>]"
            ]
          },
          "metadata": {},
          "execution_count": 59
        },
        {
          "output_type": "display_data",
          "data": {
            "text/plain": [
              "<Figure size 432x288 with 1 Axes>"
            ],
            "image/png": "[encoded data removed]"
          },
          "metadata": {
            "needs_background": "light"
          }
        }
      ]
    },
    {
      "cell_type": "markdown",
      "source": [
        "This is the monthly closing prices plotted which suggests that the stock was clearly in uptrend till mid 2021 but since then it has started its downward journey so buying at current levels is not recommended unless some signs of trend reversals are seen."
      ],
      "metadata": {
        "id": "UBNS_BIxrEb8"
      }
    },
    {
      "cell_type": "code",
      "source": [
        "stock['IntradayMove'] = stock['High'] - stock['Low']"
      ],
      "metadata": {
        "id": "MHDI_tpNrYjg"
      },
      "execution_count": 66,
      "outputs": []
    },
    {
      "cell_type": "code",
      "source": [
        "stock"
      ],
      "metadata": {
        "colab": {
          "base_uri": "https://localhost:8080/",
          "height": 423
        },
        "id": "JpwkaItGrvqY",
        "outputId": "d2ec78be-2677-4590-857d-d0d7cc5a9954"
      },
      "execution_count": 67,
      "outputs": [
        {
          "output_type": "execute_result",
          "data": {
            "text/plain": [
              "           Date        High         Low        Open       Close      Volume  \\\n",
              "0    2015-01-12   47.540001   46.360001   47.419998   46.599998  23651900.0   \n",
              "1    2015-01-13   47.910000   46.060001   46.970001   46.360001  35270600.0   \n",
              "2    2015-01-14   46.240002   45.619999   45.959999   45.959999  29719600.0   \n",
              "3    2015-01-15   46.380001   45.410000   46.220001   45.480000  32750800.0   \n",
              "4    2015-01-16   46.279999   45.169998   45.310001   46.240002  35695300.0   \n",
              "...         ...         ...         ...         ...         ...         ...   \n",
              "1920 2022-08-26  280.339996  267.980011  279.079987  268.089996  27549300.0   \n",
              "1921 2022-08-29  267.399994  263.850006  265.850006  265.230011  20338500.0   \n",
              "1922 2022-08-30  267.049988  260.660004  266.670013  262.970001  22767100.0   \n",
              "1923 2022-08-31  267.109985  261.329987  265.390015  261.470001  24791800.0   \n",
              "1924 2022-09-01  260.890015  255.410004  258.869995  260.399994  23263400.0   \n",
              "\n",
              "       Adj Close  IntradayMove  \n",
              "0      40.786396      1.180000  \n",
              "1      40.576340      1.849998  \n",
              "2      40.226257      0.620003  \n",
              "3      39.806129      0.970001  \n",
              "4      40.471313      1.110001  \n",
              "...          ...           ...  \n",
              "1920  268.089996     12.359985  \n",
              "1921  265.230011      3.549988  \n",
              "1922  262.970001      6.389984  \n",
              "1923  261.470001      5.779999  \n",
              "1924  260.399994      5.480011  \n",
              "\n",
              "[1925 rows x 8 columns]"
            ],
            "text/html": [
              "\n",
              "  <div id=\"df-f4db5a4e-ecc7-4d2c-a3f9-5e0e8686b1ef\">\n",
              "    <div class=\"colab-df-container\">\n",
              "      <div>\n",
              "<style scoped>\n",
              "    .dataframe tbody tr th:only-of-type {\n",
              "        vertical-align: middle;\n",
              "    }\n",
              "\n",
              "    .dataframe tbody tr th {\n",
              "        vertical-align: top;\n",
              "    }\n",
              "\n",
              "    .dataframe thead th {\n",
              "        text-align: right;\n",
              "    }\n",
              "</style>\n",
              "<table border=\"1\" class=\"dataframe\">\n",
              "  <thead>\n",
              "    <tr style=\"text-align: right;\">\n",
              "      <th></th>\n",
              "      <th>Date</th>\n",
              "      <th>High</th>\n",
              "      <th>Low</th>\n",
              "      <th>Open</th>\n",
              "      <th>Close</th>\n",
              "      <th>Volume</th>\n",
              "      <th>Adj Close</th>\n",
              "      <th>IntradayMove</th>\n",
              "    </tr>\n",
              "  </thead>\n",
              "  <tbody>\n",
              "    <tr>\n",
              "      <th>0</th>\n",
              "      <td>2015-01-12</td>\n",
              "      <td>47.540001</td>\n",
              "      <td>46.360001</td>\n",
              "      <td>47.419998</td>\n",
              "      <td>46.599998</td>\n",
              "      <td>23651900.0</td>\n",
              "      <td>40.786396</td>\n",
              "      <td>1.180000</td>\n",
              "    </tr>\n",
              "    <tr>\n",
              "      <th>1</th>\n",
              "      <td>2015-01-13</td>\n",
              "      <td>47.910000</td>\n",
              "      <td>46.060001</td>\n",
              "      <td>46.970001</td>\n",
              "      <td>46.360001</td>\n",
              "      <td>35270600.0</td>\n",
              "      <td>40.576340</td>\n",
              "      <td>1.849998</td>\n",
              "    </tr>\n",
              "    <tr>\n",
              "      <th>2</th>\n",
              "      <td>2015-01-14</td>\n",
              "      <td>46.240002</td>\n",
              "      <td>45.619999</td>\n",
              "      <td>45.959999</td>\n",
              "      <td>45.959999</td>\n",
              "      <td>29719600.0</td>\n",
              "      <td>40.226257</td>\n",
              "      <td>0.620003</td>\n",
              "    </tr>\n",
              "    <tr>\n",
              "      <th>3</th>\n",
              "      <td>2015-01-15</td>\n",
              "      <td>46.380001</td>\n",
              "      <td>45.410000</td>\n",
              "      <td>46.220001</td>\n",
              "      <td>45.480000</td>\n",
              "      <td>32750800.0</td>\n",
              "      <td>39.806129</td>\n",
              "      <td>0.970001</td>\n",
              "    </tr>\n",
              "    <tr>\n",
              "      <th>4</th>\n",
              "      <td>2015-01-16</td>\n",
              "      <td>46.279999</td>\n",
              "      <td>45.169998</td>\n",
              "      <td>45.310001</td>\n",
              "      <td>46.240002</td>\n",
              "      <td>35695300.0</td>\n",
              "      <td>40.471313</td>\n",
              "      <td>1.110001</td>\n",
              "    </tr>\n",
              "    <tr>\n",
              "      <th>...</th>\n",
              "      <td>...</td>\n",
              "      <td>...</td>\n",
              "      <td>...</td>\n",
              "      <td>...</td>\n",
              "      <td>...</td>\n",
              "      <td>...</td>\n",
              "      <td>...</td>\n",
              "      <td>...</td>\n",
              "    </tr>\n",
              "    <tr>\n",
              "      <th>1920</th>\n",
              "      <td>2022-08-26</td>\n",
              "      <td>280.339996</td>\n",
              "      <td>267.980011</td>\n",
              "      <td>279.079987</td>\n",
              "      <td>268.089996</td>\n",
              "      <td>27549300.0</td>\n",
              "      <td>268.089996</td>\n",
              "      <td>12.359985</td>\n",
              "    </tr>\n",
              "    <tr>\n",
              "      <th>1921</th>\n",
              "      <td>2022-08-29</td>\n",
              "      <td>267.399994</td>\n",
              "      <td>263.850006</td>\n",
              "      <td>265.850006</td>\n",
              "      <td>265.230011</td>\n",
              "      <td>20338500.0</td>\n",
              "      <td>265.230011</td>\n",
              "      <td>3.549988</td>\n",
              "    </tr>\n",
              "    <tr>\n",
              "      <th>1922</th>\n",
              "      <td>2022-08-30</td>\n",
              "      <td>267.049988</td>\n",
              "      <td>260.660004</td>\n",
              "      <td>266.670013</td>\n",
              "      <td>262.970001</td>\n",
              "      <td>22767100.0</td>\n",
              "      <td>262.970001</td>\n",
              "      <td>6.389984</td>\n",
              "    </tr>\n",
              "    <tr>\n",
              "      <th>1923</th>\n",
              "      <td>2022-08-31</td>\n",
              "      <td>267.109985</td>\n",
              "      <td>261.329987</td>\n",
              "      <td>265.390015</td>\n",
              "      <td>261.470001</td>\n",
              "      <td>24791800.0</td>\n",
              "      <td>261.470001</td>\n",
              "      <td>5.779999</td>\n",
              "    </tr>\n",
              "    <tr>\n",
              "      <th>1924</th>\n",
              "      <td>2022-09-01</td>\n",
              "      <td>260.890015</td>\n",
              "      <td>255.410004</td>\n",
              "      <td>258.869995</td>\n",
              "      <td>260.399994</td>\n",
              "      <td>23263400.0</td>\n",
              "      <td>260.399994</td>\n",
              "      <td>5.480011</td>\n",
              "    </tr>\n",
              "  </tbody>\n",
              "</table>\n",
              "<p>1925 rows × 8 columns</p>\n",
              "</div>\n",
              "      <button class=\"colab-df-convert\" onclick=\"convertToInteractive('df-f4db5a4e-ecc7-4d2c-a3f9-5e0e8686b1ef')\"\n",
              "              title=\"Convert this dataframe to an interactive table.\"\n",
              "              style=\"display:none;\">\n",
              "        \n",
              "  <svg xmlns=\"http://www.w3.org/2000/svg\" height=\"24px\"viewBox=\"0 0 24 24\"\n",
              "       width=\"24px\">\n",
              "    <path d=\"M0 0h24v24H0V0z\" fill=\"none\"/>\n",
              "    <path d=\"M18.56 5.44l.94 2.06.94-2.06 2.06-.94-2.06-.94-.94-2.06-.94 2.06-2.06.94zm-11 1L8.5 8.5l.94-2.06 2.06-.94-2.06-.94L8.5 2.5l-.94 2.06-2.06.94zm10 10l.94 2.06.94-2.06 2.06-.94-2.06-.94-.94-2.06-.94 2.06-2.06.94z\"/><path d=\"M17.41 7.96l-1.37-1.37c-.4-.4-.92-.59-1.43-.59-.52 0-1.04.2-1.43.59L10.3 9.45l-7.72 7.72c-.78.78-.78 2.05 0 2.83L4 21.41c.39.39.9.59 1.41.59.51 0 1.02-.2 1.41-.59l7.78-7.78 2.81-2.81c.8-.78.8-2.07 0-2.86zM5.41 20L4 18.59l7.72-7.72 1.47 1.35L5.41 20z\"/>\n",
              "  </svg>\n",
              "      </button>\n",
              "      \n",
              "  <style>\n",
              "    .colab-df-container {\n",
              "      display:flex;\n",
              "      flex-wrap:wrap;\n",
              "      gap: 12px;\n",
              "    }\n",
              "\n",
              "    .colab-df-convert {\n",
              "      background-color: #E8F0FE;\n",
              "      border: none;\n",
              "      border-radius: 50%;\n",
              "      cursor: pointer;\n",
              "      display: none;\n",
              "      fill: #1967D2;\n",
              "      height: 32px;\n",
              "      padding: 0 0 0 0;\n",
              "      width: 32px;\n",
              "    }\n",
              "\n",
              "    .colab-df-convert:hover {\n",
              "      background-color: #E2EBFA;\n",
              "      box-shadow: 0px 1px 2px rgba(60, 64, 67, 0.3), 0px 1px 3px 1px rgba(60, 64, 67, 0.15);\n",
              "      fill: #174EA6;\n",
              "    }\n",
              "\n",
              "    [theme=dark] .colab-df-convert {\n",
              "      background-color: #3B4455;\n",
              "      fill: #D2E3FC;\n",
              "    }\n",
              "\n",
              "    [theme=dark] .colab-df-convert:hover {\n",
              "      background-color: #434B5C;\n",
              "      box-shadow: 0px 1px 3px 1px rgba(0, 0, 0, 0.15);\n",
              "      filter: drop-shadow(0px 1px 2px rgba(0, 0, 0, 0.3));\n",
              "      fill: #FFFFFF;\n",
              "    }\n",
              "  </style>\n",
              "\n",
              "      <script>\n",
              "        const buttonEl =\n",
              "          document.querySelector('#df-f4db5a4e-ecc7-4d2c-a3f9-5e0e8686b1ef button.colab-df-convert');\n",
              "        buttonEl.style.display =\n",
              "          google.colab.kernel.accessAllowed ? 'block' : 'none';\n",
              "\n",
              "        async function convertToInteractive(key) {\n",
              "          const element = document.querySelector('#df-f4db5a4e-ecc7-4d2c-a3f9-5e0e8686b1ef');\n",
              "          const dataTable =\n",
              "            await google.colab.kernel.invokeFunction('convertToInteractive',\n",
              "                                                     [key], {});\n",
              "          if (!dataTable) return;\n",
              "\n",
              "          const docLinkHtml = 'Like what you see? Visit the ' +\n",
              "            '<a target=\"_blank\" href=https://colab.research.google.com/notebooks/data_table.ipynb>data table notebook</a>'\n",
              "            + ' to learn more about interactive tables.';\n",
              "          element.innerHTML = '';\n",
              "          dataTable['output_type'] = 'display_data';\n",
              "          await google.colab.output.renderOutput(dataTable, element);\n",
              "          const docLink = document.createElement('div');\n",
              "          docLink.innerHTML = docLinkHtml;\n",
              "          element.appendChild(docLink);\n",
              "        }\n",
              "      </script>\n",
              "    </div>\n",
              "  </div>\n",
              "  "
            ]
          },
          "metadata": {},
          "execution_count": 67
        }
      ]
    },
    {
      "cell_type": "code",
      "source": [
        "plt.plot(stock.groupby(pd.Grouper(key='Date',freq='M')).agg({'IntradayMove':'mean'}))"
      ],
      "metadata": {
        "colab": {
          "base_uri": "https://localhost:8080/",
          "height": 282
        },
        "id": "XbONIqbvr722",
        "outputId": "18bb5139-0891-4757-ff65-65671f185a54"
      },
      "execution_count": 68,
      "outputs": [
        {
          "output_type": "execute_result",
          "data": {
            "text/plain": [
              "[<matplotlib.lines.Line2D at 0x7f9569def4d0>]"
            ]
          },
          "metadata": {},
          "execution_count": 68
        },
        {
          "output_type": "display_data",
          "data": {
            "text/plain": [
              "<Figure size 432x288 with 1 Axes>"
            ],
            "image/png": "[encoded data removed]"
          },
          "metadata": {
            "needs_background": "light"
          }
        }
      ]
    },
    {
      "cell_type": "markdown",
      "source": [
        "This chart gives us an idea of the volatility of the stock by calculing the trend of intraday move of the stock from this we can observe that the volatility in the stock was at peak during start of 2020 quiet evident it was due to covid effect on the wall streets and again the volatility rose in the end 2021 which was evident due to rising inflation."
      ],
      "metadata": {
        "id": "MwlE7WzXsH6K"
      }
    },
    {
      "cell_type": "markdown",
      "source": [
        "Also if we compare the volatility graph with price graph we can see the points where the volatility increased the price has fallen significantky so the volatility gives us the idea of fear in the marketing checking which could save us from huge losses."
      ],
      "metadata": {
        "id": "IbKn_C1Fskuk"
      }
    },
    {
      "cell_type": "code",
      "source": [
        "f = plt.figure()\n",
        "f.set_figwidth(15)\n",
        "f.set_figheight(6)\n",
        "plt.subplot(1, 3, 1) \n",
        "plt.plot(stock.groupby(pd.Grouper(key='Date',freq='M')).agg({'Volume':'mean'}))\n",
        "plt.title('Volume')\n",
        "plt.subplot(1, 3, 2)\n",
        "plt.plot(stock.groupby(pd.Grouper(key='Date',freq='M')).agg({'Close':'mean'}))\n",
        "plt.title('Closing Price')\n",
        "plt.subplot(1, 3, 3)\n",
        "plt.plot(stock.groupby(pd.Grouper(key='Date',freq='M')).agg({'IntradayMove':'mean'}))\n",
        "plt.title('Intraday Move/Volatility')\n"
      ],
      "metadata": {
        "colab": {
          "base_uri": "https://localhost:8080/",
          "height": 407
        },
        "id": "qRDVM52dsF_x",
        "outputId": "2127674a-3899-4861-e0e9-cc88436b3739"
      },
      "execution_count": 86,
      "outputs": [
        {
          "output_type": "execute_result",
          "data": {
            "text/plain": [
              "Text(0.5, 1.0, 'Intraday Move/Volatility')"
            ]
          },
          "metadata": {},
          "execution_count": 86
        },
        {
          "output_type": "display_data",
          "data": {
            "text/plain": [
              "<Figure size 1080x432 with 3 Axes>"
            ],
            "image/png": "[encoded data removed]"
          },
          "metadata": {
            "needs_background": "light"
          }
        }
      ]
    },
    {
      "cell_type": "markdown",
      "source": [
        "From above three graphs we can see that whenever volume spike occurs there is corresponding volatility incurring in the stock the stock starts making more moves in intraday and at the same time a big move in price either side is seen."
      ],
      "metadata": {
        "id": "vC-yLyQsvk7x"
      }
    },
    {
      "cell_type": "markdown",
      "source": [
        "So by analysizing these three parameters Volume, Closing Price variation, volatility a lot of inferences can be made."
      ],
      "metadata": {
        "id": "haL42b__wWxr"
      }
    }
  ]
}